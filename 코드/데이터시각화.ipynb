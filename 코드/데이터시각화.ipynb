{
 "cells": [
  {
   "cell_type": "code",
   "execution_count": 1,
   "metadata": {},
   "outputs": [],
   "source": [
    "import json\n",
    "import pandas as pd\n",
    "import folium\n",
    "from folium.plugins import MarkerCluster"
   ]
  },
  {
   "cell_type": "code",
   "execution_count": 2,
   "metadata": {},
   "outputs": [],
   "source": [
    "j_map=json.load(open('c:/skorea_municipalities_geo_simple.json', encoding='utf-8'))"
   ]
  },
  {
   "cell_type": "code",
   "execution_count": 3,
   "metadata": {},
   "outputs": [],
   "source": [
    "df = pd.read_csv('c:/서울시_생활인구_정리.csv', encoding='utf-8')\n",
    "\n",
    "lat_c = 37.53165351203043\n",
    "lon_c = 126.9974246490573\n",
    "\n",
    "m = folium.Map(location=[lat_c, lon_c], zoom_start=11)"
   ]
  },
  {
   "cell_type": "code",
   "execution_count": 4,
   "metadata": {},
   "outputs": [
    {
     "name": "stderr",
     "output_type": "stream",
     "text": [
      "c:\\users\\노영준\\appdata\\local\\programs\\python\\python36\\lib\\site-packages\\folium\\folium.py:413: FutureWarning: The choropleth  method has been deprecated. Instead use the new Choropleth class, which has the same arguments. See the example notebook 'GeoJSON_and_choropleth' for how to do this.\n",
      "  FutureWarning\n"
     ]
    }
   ],
   "source": [
    "m.choropleth(geo_data=j_map,\n",
    "            data=df,\n",
    "            columns=['시군구명','총생활인구수'],\n",
    "            fill_color='PuRd',\n",
    "            key_on='feature.id')"
   ]
  },
  {
   "cell_type": "code",
   "execution_count": 5,
   "metadata": {},
   "outputs": [],
   "source": [
    "csv = pd.read_csv('c:/conv_seoul_jae-seor-ham.csv',\n",
    "                   encoding='cp949',\n",
    "                   sep=\",\",)\n",
    "\n",
    "marker_cluster = MarkerCluster().add_to(m)\n",
    "\n",
    "for idx, row in csv.iterrows():\n",
    "\n",
    "    lat_ = row['lat']\n",
    "    lon_ = row['lon']\n",
    "\n",
    "    folium.Marker(location=[lat_, lon_],\n",
    "                  radius=10\n",
    "                  ).add_to(marker_cluster)"
   ]
  },
  {
   "cell_type": "code",
   "execution_count": 6,
   "metadata": {},
   "outputs": [],
   "source": [
    "m.save('map.html')"
   ]
  },
  {
   "cell_type": "code",
   "execution_count": null,
   "metadata": {},
   "outputs": [],
   "source": []
  },
  {
   "cell_type": "code",
   "execution_count": null,
   "metadata": {},
   "outputs": [],
   "source": []
  }
 ],
 "metadata": {
  "kernelspec": {
   "display_name": "Python 3",
   "language": "python",
   "name": "python3"
  },
  "language_info": {
   "codemirror_mode": {
    "name": "ipython",
    "version": 3
   },
   "file_extension": ".py",
   "mimetype": "text/x-python",
   "name": "python",
   "nbconvert_exporter": "python",
   "pygments_lexer": "ipython3",
   "version": "3.6.5"
  }
 },
 "nbformat": 4,
 "nbformat_minor": 2
}
