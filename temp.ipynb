{
 "cells": [
  {
   "cell_type": "code",
   "execution_count": 1,
   "metadata": {},
   "outputs": [],
   "source": [
    "import googlemaps\n",
    "import pandas as pd\n",
    "from pyproj import Proj, transform"
   ]
  },
  {
   "cell_type": "code",
   "execution_count": null,
   "metadata": {},
   "outputs": [],
   "source": [
    "data = pd.read_csv('../data/org/행정안전부_급경사지 현황_20211231.csv', encoding='cp949')\n",
    "data = data[data['시군구'] == '은평구']"
   ]
  },
  {
   "cell_type": "code",
   "execution_count": 2,
   "metadata": {},
   "outputs": [
    {
     "name": "stderr",
     "output_type": "stream",
     "text": [
      "100%|██████████| 22/22 [00:23<00:00,  1.05s/it]\n",
      "100%|██████████| 142/142 [02:29<00:00,  1.05s/it]\n"
     ]
    }
   ],
   "source": [
    "import pandas as pd\n",
    "\n",
    "from utils import find_xy, get_api, trans_wtm2wgs84\n",
    "\n",
    "# 노인의료복지 시설 (grand_medical)\n",
    "grand_medical = pd.read_csv('../data/org/서울특별시_은평구_노인의료복지시설_20220701.csv', encoding='cp949')\n",
    "find_xy(grand_medical, '소재지 도로명주소', '시설명').to_csv(\"../data/grand_medical.csv\")\n",
    "\n",
    "# 어린이보호구역 (child)\n",
    "child = pd.read_csv('../data/org/서울특별시_어린이_보호구역_지정현황_20201231.csv', encoding='cp949')\n",
    "child[child['자치구명'] == '은평구']\n",
    "find_xy(child, '도로명 주소(동명)', '시설명').to_csv(\"../data/child_safe_site.csv\")\n",
    "\n",
    "# 급경사지 (warnway)\n",
    "warnway = pd.read_csv(\n",
    "    '../data/org/행정안전부_급경사지 현황_20211231.csv', encoding='cp949')\n",
    "warnway = warnway[warnway['시군구'] == '은평구']\n",
    "\n",
    "# 서울 전체 생활인구수 1년치 합치기 / 구 코드\n",
    "people = pd.read_csv('../data/org/LOCAL_PEOPLE_GU_2021.csv', encoding='euc-kr')\n",
    "people = people[['시간대구분', '자치구코드', '총생활인구수']]\n",
    "\n",
    "g_value_data = list()\n",
    "for gcode in dict.fromkeys(people['자치구코드']).keys():\n",
    "    value = people[people['자치구코드'] == gcode]['총생활인구수'].sum()\n",
    "    g_value_data.append([str(gcode), value])\n",
    "\n",
    "code = pd.read_csv('../data/org/법정동코드_조회자료.csv', encoding='cp949')\n",
    "\n",
    "dcode_name = list()\n",
    "for dcode, name in zip(code['법정동코드'], code['법정동명']):\n",
    "    key = name.split()\n",
    "    if len(key) == 2:\n",
    "        key = key[1]\n",
    "        dcode = str(dcode)[:5]\n",
    "        dcode_name.append([dcode, key])\n",
    "\n",
    "g_value_df = pd.DataFrame(g_value_data, columns=['자치구코드','총생활인구수'])\n",
    "code_name_df = pd.DataFrame(dcode_name, columns=['자치구코드','법정구명'])\n",
    "pd.merge(g_value_df, code_name_df, on ='자치구코드', how = 'inner').to_csv(\"../data/seoul_people.csv\", index = False)"
   ]
  },
  {
   "cell_type": "code",
   "execution_count": 6,
   "metadata": {},
   "outputs": [
    {
     "ename": "FileNotFoundError",
     "evalue": "[Errno 2] No such file or directory: '../data/skorea_municipalities_geo_simple.json'",
     "output_type": "error",
     "traceback": [
      "\u001b[1;31m---------------------------------------------------------------------------\u001b[0m",
      "\u001b[1;31mFileNotFoundError\u001b[0m                         Traceback (most recent call last)",
      "\u001b[1;32m<ipython-input-6-7055eadb219d>\u001b[0m in \u001b[0;36m<module>\u001b[1;34m\u001b[0m\n\u001b[0;32m      5\u001b[0m \u001b[1;33m\u001b[0m\u001b[0m\n\u001b[0;32m      6\u001b[0m j_map = json.load(\n\u001b[1;32m----> 7\u001b[1;33m     open('../data/skorea_municipalities_geo_simple.json', encoding='utf-8'))\n\u001b[0m\u001b[0;32m      8\u001b[0m \u001b[1;33m\u001b[0m\u001b[0m\n\u001b[0;32m      9\u001b[0m \u001b[0mdf\u001b[0m \u001b[1;33m=\u001b[0m \u001b[0mpd\u001b[0m\u001b[1;33m.\u001b[0m\u001b[0mread_csv\u001b[0m\u001b[1;33m(\u001b[0m\u001b[1;34m'../data/seoul_people.csv'\u001b[0m\u001b[1;33m,\u001b[0m \u001b[0mencoding\u001b[0m\u001b[1;33m=\u001b[0m\u001b[1;34m'utf-8'\u001b[0m\u001b[1;33m)\u001b[0m\u001b[1;33m\u001b[0m\u001b[1;33m\u001b[0m\u001b[0m\n",
      "\u001b[1;31mFileNotFoundError\u001b[0m: [Errno 2] No such file or directory: '../data/skorea_municipalities_geo_simple.json'"
     ]
    }
   ],
   "source": [
    "import json\n",
    "import pandas as pd\n",
    "import folium\n",
    "from folium.plugins import MarkerCluster\n",
    "\n",
    "j_map = json.load(\n",
    "    open('../data/org/skorea_municipalities_geo_simple.json', encoding='utf-8'))\n",
    "\n",
    "df = pd.read_csv('../data/seoul_people.csv', encoding='utf-8')\n",
    "\n",
    "#서울 위경도\n",
    "lat_c = 37.53165351203043\n",
    "lon_c = 126.9974246490573\n",
    "\n",
    "m = folium.Map(location=[lat_c, lon_c], zoom_start=11)\n",
    "\n",
    "m.choropleth(geo_data=j_map,\n",
    "             data=df,\n",
    "             columns=['시군구명', '총생활인구수'],\n",
    "             fill_color='PuRd',\n",
    "             key_on='feature.id')\n",
    "\n",
    "csv = pd.read_csv('../data/conv_seoul_jae-seor-ham.csv',\n",
    "                  encoding='cp949',\n",
    "                  sep=\",\",)\n",
    "\n",
    "marker_cluster = MarkerCluster().add_to(m)\n",
    "\n",
    "for idx, row in csv.iterrows():\n",
    "\n",
    "    lat_ = row['lat']\n",
    "    lon_ = row['lon']\n",
    "\n",
    "    folium.Marker(location=[lat_, lon_],\n",
    "                  radius=10\n",
    "                  ).add_to(marker_cluster)\n",
    "\n",
    "m"
   ]
  }
 ],
 "metadata": {
  "kernelspec": {
   "display_name": "refactoring",
   "language": "python",
   "name": "python3"
  },
  "language_info": {
   "codemirror_mode": {
    "name": "ipython",
    "version": 3
   },
   "file_extension": ".py",
   "mimetype": "text/x-python",
   "name": "python",
   "nbconvert_exporter": "python",
   "pygments_lexer": "ipython3",
   "version": "3.6.13"
  },
  "orig_nbformat": 4,
  "vscode": {
   "interpreter": {
    "hash": "cf52b4289ea11db24ca1be6e335ba9be0aad757dbf313a5e44d8aebba2b63a82"
   }
  }
 },
 "nbformat": 4,
 "nbformat_minor": 2
}
