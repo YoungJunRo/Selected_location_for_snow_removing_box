{
 "cells": [
  {
   "cell_type": "code",
   "execution_count": 1,
   "id": "1b5af2fa",
   "metadata": {},
   "outputs": [],
   "source": [
    "import geopandas as gpd\n",
    "import geopandas\n",
    "import matplotlib.pyplot as plt\n",
    "import matplotlib as mpl\n",
    "\n",
    "import numpy as np\n",
    "import pandas as pd\n",
    "\n",
    "from matplotlib import font_manager, rc\n",
    "\n",
    "import folium\n",
    "import branca\n",
    "from shapely.geometry.point import Point\n",
    "\n",
    "from utils import round, cal_area, generate_candidate_sites"
   ]
  },
  {
   "cell_type": "code",
   "execution_count": 2,
   "id": "f0dd91db",
   "metadata": {},
   "outputs": [
    {
     "data": {
      "text/plain": [
       "\"freezing = pd.read_csv('../data/freezing.csv', encoding='cp949')\\nwarnway = pd.read_csv('../data/freezing.csv', encoding='cp949')\""
      ]
     },
     "execution_count": 2,
     "metadata": {},
     "output_type": "execute_result"
    }
   ],
   "source": [
    "jaeseorham = pd.read_csv('../data/jaeseorham.csv', encoding='cp949')\n",
    "grand_medical = pd.read_csv('../data/grand_medical_facility.csv', encoding='cp949')\n",
    "child = pd.read_csv('../data/child_safe_site.csv', encoding='cp949')\n",
    "freezing = pd.read_csv('../data/freezing.csv', encoding='cp949')\n",
    "warnway = pd.read_csv('../data/freezing.csv', encoding='cp949')"
   ]
  },
  {
   "cell_type": "code",
   "execution_count": 5,
   "id": "50929768",
   "metadata": {},
   "outputs": [],
   "source": [
    "y_u = round(r=208, lon = \"lon\", lat = \"lat\", dataset=jaeseorham) #제설함\n",
    "gm_u = round(r=50, lon = \"lon\", lat = \"lat\", dataset=grand_medical) #노인 복지시설\n",
    "ch_u = round(r=50, lon = \"lon\", lat = \"lat\", dataset=child) #어린이 보호구역\n",
    "fr_u = round(r=50, lon = \"lon\", lat = \"lat\", dataset=freezing) #결빙\n",
    "ww_u = round(r=50, lon = \"lon\", lat = \"lat\", dataset=warnway) #급경사지"
   ]
  },
  {
   "cell_type": "code",
   "execution_count": null,
   "id": "fca4bd46",
   "metadata": {},
   "outputs": [],
   "source": [
    "lats = np.array(gdf['lat'])\n",
    "lons = np.array(gdf['lon'])\n",
    "\n",
    "lon_c = '126.926149'\n",
    "lat_c = '37.609518'\n",
    "\n",
    "m = folium.Map([lat_c, lon_c], zoom_start = 13)\n",
    "for lat, lon in zip(lats, lons):\n",
    "    folium.Circle(location = [lat, lon], radius = r, color='black', fill_color = 'purple', weight=1).add_to(m)\n",
    "m"
   ]
  },
  {
   "cell_type": "code",
   "execution_count": null,
   "id": "38574341",
   "metadata": {},
   "outputs": [],
   "source": [
    "nlsp = geopandas.read_file('map/nlsp_021001001.shp',encoding = 'utf8')\n",
    "nlsp.head(2)"
   ]
  },
  {
   "cell_type": "code",
   "execution_count": null,
   "id": "e8e7918b",
   "metadata": {},
   "outputs": [],
   "source": [
    "nlsp = nlsp.to_crs(epsg=4326)"
   ]
  },
  {
   "cell_type": "code",
   "execution_count": null,
   "id": "394b48c8",
   "metadata": {},
   "outputs": [],
   "source": [
    "nlsp = nlsp.drop(columns=['val'])\n",
    "nlsp"
   ]
  },
  {
   "cell_type": "code",
   "execution_count": null,
   "id": "aed4f2cf",
   "metadata": {
    "scrolled": false
   },
   "outputs": [],
   "source": [
    "m2 = folium.Map([lat_c, lon_c], zoom_start = 13)\n",
    "for _, row in nlsp.iterrows():\n",
    "    value = 1-cal_area(row['geometry'], u)\n",
    "    sim_geo = gpd.GeoSeries(row['geometry'])\n",
    "    geo_j = sim_geo.to_json()\n",
    "    color = plt.cm.OrRd(value)\n",
    "    color = mpl.colors.to_hex(color)\n",
    "    \n",
    "    geo_j = folium.GeoJson(data=geo_j,\n",
    "                        style_function=lambda feature, color=color: {\n",
    "                                                                        'fillColor': color,\n",
    "                                                                        'color':\"black\",\n",
    "                                                                        'weight': 2,\n",
    "                                                                        'dashArray': '5, 5',\n",
    "                                                                        'fillOpacity': 0.8,\n",
    "                                                                    })\n",
    "\n",
    "\n",
    "    folium.Popup(f'{value:.3f}').add_to(geo_j)\n",
    "    geo_j.add_to(m2)\n",
    "\n",
    "colormap = branca.colormap.linear.OrRd_06.scale(0, 1)\n",
    "colormap = colormap.to_step(index=np.linspace(0, 1, 1000))\n",
    "colormap.caption = 'Area Ratio NOT Covered by Jae-seor-ham'\n",
    "colormap.add_to(m2)\n",
    "m2"
   ]
  },
  {
   "cell_type": "markdown",
   "id": "e425b1a2",
   "metadata": {},
   "source": [
    "**$w_i = lbl \\times AreaRatio \\times child \\times grand medical \\times freezing \\times warnway$** \n",
    "\n",
    "- $w_i$ : 수요량\n",
    "- $lbl$ : 주거 인구 비례\n",
    "- $AreaRatio$ : 커버되지않은 면적 비율 (0~1)\n",
    "- $child$ : 어린이 보호 구역\n",
    "- $grandmedical$ : 노인 의료 복지 시설\n",
    "- $freezing$ : 결빙 사고 다발 지역\n",
    "- $warnway$ : 급경사지"
   ]
  },
  {
   "cell_type": "code",
   "execution_count": null,
   "id": "55552b7a",
   "metadata": {},
   "outputs": [],
   "source": [
    "m2_nlsp = nlsp.replace(to_replace = 'N/A', value = 0)"
   ]
  },
  {
   "cell_type": "code",
   "execution_count": null,
   "id": "21e979b5",
   "metadata": {},
   "outputs": [],
   "source": [
    "m2_nlsp = m2_nlsp.astype({'lbl':float})"
   ]
  },
  {
   "cell_type": "code",
   "execution_count": null,
   "id": "0a403ccf",
   "metadata": {
    "scrolled": true
   },
   "outputs": [],
   "source": [
    "m3 = folium.Map([lat_c, lon_c], zoom_start = 13)\n",
    "values = []\n",
    "cnt = 0\n",
    "for _, row in m2_nlsp.iterrows():\n",
    "    value = (1-cal_area(row['geometry'], u)) * (row['lbl']) * (1 + cal_area(row['geometry'], ch_u)) * (1 + cal_area(row['geometry'], gm_u)) * (1 + cal_area(row['geometry'], fz_u)) * (1 + cal_area(row['geometry'], ww_u))\n",
    "    if value >= 0.1:\n",
    "        cnt += 1\n",
    "    else:\n",
    "        value = 0\n",
    "    values.append(value)\n",
    "max_value = max(values)\n",
    "\n",
    "for i, row in m2_nlsp.iterrows():\n",
    "    value = values[i]\n",
    "    sim_geo = gpd.GeoSeries(row['geometry'])\n",
    "    geo_j = sim_geo.to_json()\n",
    "\n",
    "    color = plt.cm.Reds(value/max_value)\n",
    "    color = mpl.colors.to_hex(color)\n",
    "\n",
    "    if value == 0:\n",
    "        geo_j = folium.GeoJson(data=geo_j,\n",
    "                        style_function=lambda feature, color=color: {\n",
    "                                                                        'fillColor': color,\n",
    "                                                                        'color':\"black\",\n",
    "                                                                        'weight': 0.5,\n",
    "                                                                        'dashArray': '5, 5',\n",
    "                                                                        'fillOpacity': 0,\n",
    "                                                                    })\n",
    "    else:\n",
    "        geo_j = folium.GeoJson(data=geo_j,\n",
    "                        style_function=lambda feature, color=color: {\n",
    "                                                                        'fillColor': color,\n",
    "                                                                        'color':\"black\",\n",
    "                                                                        'weight': 0.5,\n",
    "                                                                        'dashArray': '5, 5',\n",
    "                                                                        'fillOpacity': 0.8,\n",
    "                                                                    })\n",
    "\n",
    "\n",
    "    folium.Popup(f'{value:.3f}').add_to(geo_j)\n",
    "    geo_j.add_to(m3)\n",
    "    \n",
    "colormap = branca.colormap.linear.Reds_05.scale(0, max_value)\n",
    "colormap = colormap.to_step(index=np.linspace(0, max_value, 1500))\n",
    "colormap.caption = 'lbl × Area Ratio not covered by jae-seor-ham'\n",
    "colormap.add_to(m3)\n",
    "m3"
   ]
  },
  {
   "cell_type": "code",
   "execution_count": null,
   "id": "e05424ae",
   "metadata": {
    "scrolled": false
   },
   "outputs": [],
   "source": [
    "print(f'max_value : {max_value:.4f}')\n",
    "print(f'N_Grid(value>0) : {cnt}, N_Grid(All) : {len(m2_nlsp)}')\n",
    "print(f'Grid_Ratio : {cnt/len(m2_nlsp):.4f}')"
   ]
  },
  {
   "cell_type": "code",
   "execution_count": null,
   "id": "6d8d0caf",
   "metadata": {
    "scrolled": true
   },
   "outputs": [],
   "source": [
    "m2_nlsp['weight'] = values"
   ]
  },
  {
   "cell_type": "code",
   "execution_count": null,
   "id": "cf9a89c7",
   "metadata": {
    "scrolled": false
   },
   "outputs": [],
   "source": [
    "m2_nlsp['geo'] = nlsp['geometry'].to_crs(epsg=5179)\n",
    "m2_nlsp.head(2)"
   ]
  },
  {
   "cell_type": "code",
   "execution_count": null,
   "id": "89af65fd",
   "metadata": {},
   "outputs": [],
   "source": [
    "radius = 208\n",
    "K = 24\n",
    "M = cnt\n",
    "opt_sites_org, f = mclp(m2_nlsp, K, M, radius)\n",
    "print('커버되는 제설함 수요 지점의 개수 : {}'.format(f))"
   ]
  },
  {
   "cell_type": "code",
   "execution_count": null,
   "id": "8ad309f6",
   "metadata": {},
   "outputs": [],
   "source": [
    "opt_df= pd.DataFrame(opt_sites_org, columns=['lon', 'lat'])\n",
    "opt_df['geom'] = opt_df.apply(lambda r: Point(r['lon'], r['lat']), axis=1)\n",
    "gdf = gpd.GeoDataFrame(opt_df, geometry='geom', crs='epsg:5179')\n",
    "gdf = gdf.to_crs(epsg=4329)\n",
    "gdf['lon'] = gdf['geom'].apply(lambda p:p.x)\n",
    "gdf['lat'] = gdf['geom'].apply(lambda p:p.y)\n",
    "gdf"
   ]
  },
  {
   "cell_type": "code",
   "execution_count": null,
   "id": "a55767bf",
   "metadata": {},
   "outputs": [],
   "source": [
    "lats = gdf['lat']\n",
    "lons = gdf['lon']"
   ]
  },
  {
   "cell_type": "code",
   "execution_count": null,
   "id": "cf654ebb",
   "metadata": {
    "scrolled": true
   },
   "outputs": [],
   "source": [
    "#m4 = m3\n",
    "m4 = folium.Map([lat_c, lon_c], zoom_start = 13)\n",
    "for lat, lon in zip(lats, lons):\n",
    "    folium.Circle(location = [lat, lon], radius = radius, color='black', fill_color = 'blue', weight=1).add_to(m4)\n",
    "m4\n",
    "m4.save('2nd.html')"
   ]
  },
  {
   "cell_type": "code",
   "execution_count": null,
   "id": "6f828c42",
   "metadata": {
    "scrolled": true
   },
   "outputs": [],
   "source": [
    "radius = 208\n",
    "M = cnt\n",
    "K = 0\n",
    "l = len(m2_nlsp)\n",
    "\n",
    "new_df = pd.DataFrame(data={'K':[0], 'max_value':[np.round(max_value, 4)], 'mean_value':[np.mean(m2_nlsp['weight'])],\n",
    "                            'N_Grid(value>0)':cnt, 'Grid_Ratio':np.round(cnt/l,4)})\n",
    "new_df['K'] = new_df['K'].astype(int)\n",
    "while True:\n",
    "    K += 1\n",
    "    opt_sites_org, f = mclp(m2_nlsp, K, M, radius)\n",
    "    \n",
    "    opt_df= pd.DataFrame(opt_sites_org, columns=['lon', 'lat'])\n",
    "    opt_df['geom'] = opt_df.apply(lambda row: Point(row['lon'], row['lat']), axis=1)\n",
    "    gdf = gpd.GeoDataFrame(opt_df, geometry='geom', crs='epsg:5179')\n",
    "    gdf = gdf.to_crs('epsg:4326')\n",
    "    gdf['lon'] = gdf['geom'].apply(lambda p:p.x)\n",
    "    gdf['lat'] = gdf['geom'].apply(lambda p:p.y)\n",
    "    lats = gdf['lat']\n",
    "    lons = gdf['lon']\n",
    "    opt_df = gpd.GeoDataFrame(opt_df, geometry='geom', crs='epsg:5179')\n",
    "    opt_df['geometry'] = opt_df.geom.buffer(r)\n",
    "    gdf = opt_df.to_crs('epsg:4326')\n",
    "\n",
    "    u_tmp = u\n",
    "    for c in gdf['circle']:\n",
    "        u_tmp = u_tmp.union(c)\n",
    "    \n",
    "    values = []\n",
    "    for _, row in m2_nlsp.iterrows():\n",
    "        value = (1-cal_area(row['geometry'], u_tmp)) * row['weight']\n",
    "        if value < 0.1:\n",
    "            value = 0\n",
    "        values.append(value)\n",
    "    max_value = max(values)\n",
    "    \n",
    "    tmp_df = pd.DataFrame({'K':[int(K)], 'max_value':[np.round(max_value, 4)], 'mean_value':[np.mean(values)],\n",
    "                        'N_Grid(value>0)':[cnt-f], 'Grid_Ratio':[np.round((cnt-f)/l,4)]},\n",
    "                         index=[K])\n",
    "    new_df = pd.concat([new_df, tmp_df])\n",
    "\n",
    "    if f == M:\n",
    "        break\n",
    "\n",
    "print(f'최소 {K}개의 제설함으로 모든 취약 지점을 커버할 수 있다.')\n",
    "new_df"
   ]
  },
  {
   "cell_type": "code",
   "execution_count": null,
   "id": "2e804071",
   "metadata": {
    "scrolled": true
   },
   "outputs": [],
   "source": [
    "m5 = folium.Map([lat_c, lon_c], zoom_start = 13)\n",
    "values = m2_nlsp['weight']\n",
    "max_value = max(values)\n",
    "for i, row in m2_nlsp.iterrows():\n",
    "    value = values[i]\n",
    "    sim_geo = gpd.GeoSeries(row['geometry'])\n",
    "    geo_j = sim_geo.to_json()\n",
    "\n",
    "    color = plt.cm.Reds(value/max_value)\n",
    "    color = mpl.colors.to_hex(color)\n",
    "\n",
    "    if value == 0:\n",
    "        geo_j = folium.GeoJson(data=geo_j,\n",
    "                        style_function=lambda feature, color=color: {\n",
    "                                                                        'fillColor': color,\n",
    "                                                                        'color':\"black\",\n",
    "                                                                        'weight': 0.5,\n",
    "                                                                        'dashArray': '5, 5',\n",
    "                                                                        'fillOpacity': 0,\n",
    "                                                                    })\n",
    "    else:\n",
    "        geo_j = folium.GeoJson(data=geo_j,\n",
    "                        style_function=lambda feature, color=color: {\n",
    "                                                                        'fillColor': color,\n",
    "                                                                        'color':\"black\",\n",
    "                                                                        'weight': 0.5,\n",
    "                                                                        'dashArray': '5, 5',\n",
    "                                                                        'fillOpacity': 0.8,\n",
    "                                                                    })\n",
    "\n",
    "\n",
    "    folium.Popup(f'{value:.3f}').add_to(geo_j)\n",
    "    geo_j.add_to(m5)\n",
    "colormap = branca.colormap.linear.Reds_05.scale(0, max_value)\n",
    "colormap = colormap.to_step(index=np.linspace(0, max_value, 1500))\n",
    "colormap.caption = 'lbl × Area Ratio not covered by jae-seor-ham'\n",
    "colormap.add_to(m5)\n",
    "for lat, lon in zip(lats, lons):\n",
    "    folium.Circle(location = [lat, lon], radius = radius, color='black', fill_color = 'blue', weight=1).add_to(m5)\n",
    "m5.save('final.html')\n",
    "m5"
   ]
  },
  {
   "cell_type": "code",
   "execution_count": null,
   "id": "ae32b881",
   "metadata": {},
   "outputs": [],
   "source": []
  }
 ],
 "metadata": {
  "kernelspec": {
   "display_name": "refactoring",
   "language": "python",
   "name": "python3"
  },
  "language_info": {
   "codemirror_mode": {
    "name": "ipython",
    "version": 3
   },
   "file_extension": ".py",
   "mimetype": "text/x-python",
   "name": "python",
   "nbconvert_exporter": "python",
   "pygments_lexer": "ipython3",
   "version": "3.6.13"
  },
  "toc": {
   "base_numbering": 1,
   "nav_menu": {},
   "number_sections": false,
   "sideBar": true,
   "skip_h1_title": false,
   "title_cell": "Table of Contents",
   "title_sidebar": "Contents",
   "toc_cell": false,
   "toc_position": {},
   "toc_section_display": true,
   "toc_window_display": false
  },
  "vscode": {
   "interpreter": {
    "hash": "cf52b4289ea11db24ca1be6e335ba9be0aad757dbf313a5e44d8aebba2b63a82"
   }
  }
 },
 "nbformat": 4,
 "nbformat_minor": 5
}
